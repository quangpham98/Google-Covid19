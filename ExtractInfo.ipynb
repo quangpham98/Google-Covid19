{
 "cells": [
  {
   "cell_type": "code",
   "execution_count": 1,
   "metadata": {},
   "outputs": [],
   "source": [
    "import os\n",
    "import datetime\n",
    "from collections import OrderedDict\n",
    "\n",
    "import pandas as pd\n",
    "\n",
    "import tika\n",
    "tika.initVM()\n",
    "from tika import parser"
   ]
  },
  {
   "cell_type": "code",
   "execution_count": 2,
   "metadata": {},
   "outputs": [],
   "source": [
    "import os\n",
    "entries = os.listdir('Updated')"
   ]
  },
  {
   "cell_type": "code",
   "execution_count": 3,
   "metadata": {},
   "outputs": [
    {
     "data": {
      "text/plain": [
       "183"
      ]
     },
     "execution_count": 3,
     "metadata": {},
     "output_type": "execute_result"
    }
   ],
   "source": [
    "len(entries)"
   ]
  },
  {
   "cell_type": "code",
   "execution_count": 4,
   "metadata": {},
   "outputs": [],
   "source": [
    "# Cutting edge for fast speed\n",
    "cut='About this data.\\n\\n'\n",
    "checkreg='Mobility trends for places of residence' #divide country and region pages"
   ]
  },
  {
   "cell_type": "code",
   "execution_count": 5,
   "metadata": {},
   "outputs": [],
   "source": [
    "#clean the data\n",
    "def clean_process(mess):\n",
    "    mess=mess.split('\\n')\n",
    "    messls=[]\n",
    "    for i in mess:\n",
    "        if(i!=''):\n",
    "            messls.append(i)\n",
    "    return messls        "
   ]
  },
  {
   "cell_type": "code",
   "execution_count": 6,
   "metadata": {},
   "outputs": [],
   "source": [
    "#Extract data for country\n",
    "def extract_data(mess):\n",
    "    value=[]\n",
    "    for i in range(len(mess)):\n",
    "        if (mess[i] in 'Retail & recreation '):\n",
    "           value.append(mess[i+1][:-1])\n",
    "        if (mess[i] in 'Grocery & pharmacy '):\n",
    "           value.append(mess[i+1][:-1])\n",
    "        if (mess[i] in 'Parks '):\n",
    "           value.append(mess[i+1][:-1])     \n",
    "        if (mess[i] in 'Transit stations '):\n",
    "           value.append(mess[i+1][:-1])\n",
    "        if (mess[i] in 'Workplaces '):\n",
    "           value.append(mess[i+1][:-1])\n",
    "        if (mess[i] in 'Residential '):\n",
    "           value.append(mess[i+1][:-1])\n",
    "        if (len(value)==6):\n",
    "            return value"
   ]
  },
  {
   "cell_type": "code",
   "execution_count": 7,
   "metadata": {},
   "outputs": [],
   "source": [
    "#extract data for reason\n",
    "def extract_dataR(mess):\n",
    "    value=[]\n",
    "    hold=[]\n",
    "    for i in range(len(mess)):\n",
    "        if (mess[i] in 'Retail & recreation '):\n",
    "           value.append(mess[i-1])\n",
    "           value.append(mess[i+1][:3])\n",
    "        if (mess[i] in 'Grocery & pharmacy '):\n",
    "            value.append(mess[i+1][:3])\n",
    "        if (mess[i] in 'Parks '):\n",
    "            value.append(mess[i+1][:3])     \n",
    "        if (mess[i] in 'Transit stations '):\n",
    "            value.append(mess[i+1][:3])\n",
    "        if (mess[i] in 'Workplace '):\n",
    "           value.append(mess[i+1][:3])\n",
    "        if (mess[i] in 'Residential '):\n",
    "            value.append(mess[i+1][:3])\n",
    "        if (len(value)==7):\n",
    "            hold.append(value)\n",
    "            value=[]\n",
    "    return(hold)\n",
    "       "
   ]
  },
  {
   "cell_type": "code",
   "execution_count": 8,
   "metadata": {},
   "outputs": [],
   "source": [
    "#remove unwanted file\n",
    "entries.remove('.DS_Store')"
   ]
  },
  {
   "cell_type": "code",
   "execution_count": 51,
   "metadata": {},
   "outputs": [],
   "source": [
    "#PDF to CSV\n",
    "for i in entries:\n",
    "    parsed = parser.from_file('Updated/'+i)\n",
    "    text=parsed[\"content\"]\n",
    "    Name=[]\n",
    "    Retail=[]\n",
    "    Groc=[]\n",
    "    Park=[]\n",
    "    Transit=[]\n",
    "    Workplace=[]\n",
    "    Res=[]\n",
    "    \n",
    "    text=text.split(checkreg)\n",
    "    country=text[0].split(cut)[1]\n",
    "    country=clean_process(country)\n",
    "    output=extract_data(country)\n",
    "    \n",
    "    Name.append(i.split(\"_\")[1])\n",
    "    Retail.append(output[0])\n",
    "    Groc.append(output[1])\n",
    "    Park.append(output[2])\n",
    "    Transit.append(output[3])\n",
    "    Workplace.append(output[4])\n",
    "    Res.append(output[5])\n",
    "    \n",
    "    if(len(text)==2):\n",
    "        reg=text[1]\n",
    "        reg=clean_process(reg)\n",
    "        out=extract_dataR(reg)\n",
    "        for j in out:\n",
    "            Name.append(j[0])\n",
    "            Retail.append(j[1])\n",
    "            Groc.append(j[2])\n",
    "            Park.append(j[3])\n",
    "            Transit.append(j[4])\n",
    "            Workplace.append(j[5])\n",
    "            Res.append(j[6])\n",
    "    \n",
    "    df=pd.DataFrame()\n",
    "    df[\"Name\"]=Name\n",
    "    df[\"Retail\"]=Retail\n",
    "    df[\"Groc\"]=Groc\n",
    "    df[\"Transit\"]=Transit\n",
    "    df[\"Workplace\"]=Workplace\n",
    "    df[\"Res\"]=Res\n",
    "    df[\"Park\"]=Park\n",
    "    df.to_csv(\"CSV/\"+i.split(\"_\")[1]+i.split(\"_\")[2]+'.csv')"
   ]
  }
 ],
 "metadata": {
  "kernelspec": {
   "display_name": "Python 3",
   "language": "python",
   "name": "python3"
  },
  "language_info": {
   "codemirror_mode": {
    "name": "ipython",
    "version": 3
   },
   "file_extension": ".py",
   "mimetype": "text/x-python",
   "name": "python",
   "nbconvert_exporter": "python",
   "pygments_lexer": "ipython3",
   "version": "3.7.6"
  }
 },
 "nbformat": 4,
 "nbformat_minor": 4
}
