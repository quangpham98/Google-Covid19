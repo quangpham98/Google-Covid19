{
 "cells": [
  {
   "cell_type": "code",
   "execution_count": 2,
   "metadata": {},
   "outputs": [],
   "source": [
    "import requests\n",
    "from bs4 import BeautifulSoup as bs\n",
    "import urllib.request, urllib.error, urllib.parse\n",
    "from datetime import datetime"
   ]
  },
  {
   "cell_type": "markdown",
   "metadata": {},
   "source": [
    "# Download data function first time\n"
   ]
  },
  {
   "cell_type": "code",
   "execution_count": 2,
   "metadata": {},
   "outputs": [],
   "source": [
    "url = 'https://www.google.com/covid19/mobility/'\n",
    "response = requests.get(url) # getdata from the url"
   ]
  },
  {
   "cell_type": "code",
   "execution_count": 23,
   "metadata": {},
   "outputs": [],
   "source": [
    "soup = bs(response.text,'lxml')"
   ]
  },
  {
   "cell_type": "code",
   "execution_count": 11,
   "metadata": {},
   "outputs": [],
   "source": [
    "urls = []\n",
    "names = []\n",
    "for i, link in enumerate(soup.findAll('a')):\n",
    "    urllist = link.get('href')\n",
    "\n",
    "    if urllist.endswith('.pdf'):\n",
    "        soupPDFLink = soup.select('a')[i].attrs['href']\n",
    "\n",
    "        urls.append(urllist)\n",
    "        names.append(soupPDFLink.rsplit(\"/\", 1)[-1])\n",
    "\n",
    "\n"
   ]
  },
  {
   "cell_type": "code",
   "execution_count": null,
   "metadata": {},
   "outputs": [],
   "source": [
    "names_urls = list(zip(names, urls))\n",
    "\n",
    "for name, url in names_urls:\n",
    "    rq = urllib.request.Request(url)\n",
    "    res = urllib.request.urlopen(rq)\n",
    "    pdf = open(\"Data/\" + name, 'wb')\n",
    "    pdf.write(res.read())\n",
    "    pdf.close()\n"
   ]
  },
  {
   "cell_type": "markdown",
   "metadata": {},
   "source": [
    "# Download second time\n",
    "The format of the website had already changed, so new files will be download direclty through URL formats and country/state name"
   ]
  },
  {
   "cell_type": "code",
   "execution_count": 4,
   "metadata": {},
   "outputs": [],
   "source": [
    "import os\n",
    "entries = os.listdir('Data')"
   ]
  },
  {
   "cell_type": "code",
   "execution_count": 78,
   "metadata": {},
   "outputs": [],
   "source": [
    "date='2020-04-17'\n",
    "link='https://www.gstatic.com/covid19/mobility/'"
   ]
  },
  {
   "cell_type": "code",
   "execution_count": 79,
   "metadata": {},
   "outputs": [],
   "source": [
    "for i in entries:\n",
    "    finallink=link+date+i[10:]\n",
    "    while True:\n",
    "        try:\n",
    "            rq = urllib.request.Request(finallink)\n",
    "            res = urllib.request.urlopen(rq)\n",
    "            newname=str(date+i[10:])\n",
    "            pdf = open(\"Updated/\" +newname, 'wb')\n",
    "            pdf.write(res.read())\n",
    "            pdf.close()\n",
    "            break\n",
    "        except urllib.error.HTTPError:\n",
    "               rq = urllib.request.Request(link+i)\n",
    "               res = urllib.request.urlopen(rq)\n",
    "               pdf = open(\"Updated/\" +i, 'wb')\n",
    "               pdf.write(res.read())\n",
    "               pdf.close()\n",
    "               break"
   ]
  }
 ],
 "metadata": {
  "kernelspec": {
   "display_name": "Python 3",
   "language": "python",
   "name": "python3"
  },
  "language_info": {
   "codemirror_mode": {
    "name": "ipython",
    "version": 3
   },
   "file_extension": ".py",
   "mimetype": "text/x-python",
   "name": "python",
   "nbconvert_exporter": "python",
   "pygments_lexer": "ipython3",
   "version": "3.7.6"
  }
 },
 "nbformat": 4,
 "nbformat_minor": 2
}
